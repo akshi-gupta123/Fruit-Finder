{
  "nbformat": 4,
  "nbformat_minor": 0,
  "metadata": {
    "colab": {
      "name": "2. Splitting and Loading Data.ipynb",
      "provenance": [],
      "collapsed_sections": []
    },
    "kernelspec": {
      "name": "python3",
      "display_name": "Python 3"
    },
    "language_info": {
      "name": "python"
    }
  },
  "cells": [
    {
      "cell_type": "markdown",
      "metadata": {
        "id": "ZsHmfoKClSfX"
      },
      "source": [
        "Splitting Data"
      ]
    },
    {
      "cell_type": "code",
      "metadata": {
        "id": "2pXg3JCEwNLh"
      },
      "source": [
        "import numpy as np\n",
        "from sklearn.model_selection import train_test_split"
      ],
      "execution_count": null,
      "outputs": []
    },
    {
      "cell_type": "code",
      "metadata": {
        "id": "OgEvYx46wTGv"
      },
      "source": [
        "data=np.load(open('/content/drive/MyDrive/All fruits/temp2/data.npy','rb'))\n",
        "target=np.load(open('/content/drive/MyDrive/All fruits/temp2/new_label.npy','rb'))"
      ],
      "execution_count": null,
      "outputs": []
    },
    {
      "cell_type": "code",
      "metadata": {
        "colab": {
          "base_uri": "https://localhost:8080/"
        },
        "id": "w6GJL4gkwhTm",
        "outputId": "663a57a9-e3eb-4e3a-94bc-6ff93db44942"
      },
      "source": [
        "X_train,X_test,y_train,y_test=train_test_split(data,target,test_size=0.25,random_state=5,stratify=target)\n",
        "X_train.shape,X_test.shape,y_train.shape,y_test.shape"
      ],
      "execution_count": null,
      "outputs": [
        {
          "output_type": "execute_result",
          "data": {
            "text/plain": [
              "((24042, 200, 200, 3), (8015, 200, 200, 3), (24042, 60), (8015, 60))"
            ]
          },
          "metadata": {
            "tags": []
          },
          "execution_count": 5
        }
      ]
    },
    {
      "cell_type": "code",
      "metadata": {
        "id": "SscUnf4xxWmi"
      },
      "source": [
        "np.save(open('/content/drive/MyDrive/All fruits/temp2/final_X_train.npy','wb'),X_train)\n",
        "np.save(open('/content/drive/MyDrive/All fruits/temp2/final_X_test.npy','wb'),X_test)\n",
        "np.save(open('/content/drive/MyDrive/All fruits/temp2/final_y_train.npy','wb'),y_train)\n",
        "np.save(open('/content/drive/MyDrive/All fruits/temp2/final_y_test.npy','wb'),y_test)"
      ],
      "execution_count": null,
      "outputs": []
    },
    {
      "cell_type": "markdown",
      "metadata": {
        "id": "QcPLZw-HlV0H"
      },
      "source": [
        "Loading Data"
      ]
    },
    {
      "cell_type": "code",
      "metadata": {
        "id": "2HIAECg7FTEV"
      },
      "source": [
        "import numpy as np\n",
        "X_train=np.load(open('/content/drive/MyDrive/All fruits/temp2/final_X_train.npy','rb'))\n",
        "X_test=np.load(open('/content/drive/MyDrive/All fruits/temp2/final_X_test.npy','rb'))\n",
        "y_train=np.load(open('/content/drive/MyDrive/All fruits/temp2/final_y_train.npy','rb'))\n",
        "y_test=np.load(open('/content/drive/MyDrive/All fruits/temp2/final_y_test.npy','rb'))"
      ],
      "execution_count": null,
      "outputs": []
    },
    {
      "cell_type": "code",
      "metadata": {
        "colab": {
          "base_uri": "https://localhost:8080/"
        },
        "id": "DWXW82-RFu9e",
        "outputId": "d70ac7a0-5488-4eaa-e875-7349f1583718"
      },
      "source": [
        "X_train.shape,X_test.shape,y_train.shape,y_test.shape"
      ],
      "execution_count": null,
      "outputs": [
        {
          "output_type": "execute_result",
          "data": {
            "text/plain": [
              "((24042, 200, 200, 3), (8015, 200, 200, 3), (24042, 60), (8015, 60))"
            ]
          },
          "metadata": {
            "tags": []
          },
          "execution_count": 2
        }
      ]
    }
  ]
}